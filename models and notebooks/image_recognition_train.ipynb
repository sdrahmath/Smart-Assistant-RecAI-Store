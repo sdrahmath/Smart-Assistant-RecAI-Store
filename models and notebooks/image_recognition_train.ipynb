{
 "cells": [
  {
   "cell_type": "code",
   "execution_count": 1,
   "id": "6645dc07",
   "metadata": {},
   "outputs": [],
   "source": [
    "import tensorflow as tf\n",
    "import matplotlib.pyplot as plt"
   ]
  },
  {
   "cell_type": "code",
   "execution_count": 2,
   "id": "32a9a3a0",
   "metadata": {
    "scrolled": true
   },
   "outputs": [
    {
     "name": "stdout",
     "output_type": "stream",
     "text": [
      "Found 3115 files belonging to 36 classes.\n"
     ]
    }
   ],
   "source": [
    "training_set = tf.keras.utils.image_dataset_from_directory(\n",
    "    'Dataset/train',\n",
    "    labels=\"inferred\",\n",
    "    label_mode=\"categorical\",\n",
    "    class_names=None,\n",
    "    color_mode=\"rgb\",\n",
    "    batch_size=32,\n",
    "    image_size=(64, 64),\n",
    "    shuffle=True,\n",
    "    seed=None,\n",
    "    validation_split=None,\n",
    "    subset=None,\n",
    "    interpolation=\"bilinear\",\n",
    "    follow_links=False,\n",
    "    crop_to_aspect_ratio=False\n",
    ")"
   ]
  },
  {
   "cell_type": "code",
   "execution_count": 3,
   "id": "85519541",
   "metadata": {},
   "outputs": [
    {
     "name": "stdout",
     "output_type": "stream",
     "text": [
      "Found 351 files belonging to 36 classes.\n"
     ]
    }
   ],
   "source": [
    "validation_set = tf.keras.utils.image_dataset_from_directory(\n",
    "    'Dataset/validation',\n",
    "    labels=\"inferred\",\n",
    "    label_mode=\"categorical\",\n",
    "    class_names=None,\n",
    "    color_mode=\"rgb\",\n",
    "    batch_size=32,\n",
    "    image_size=(64, 64),\n",
    "    shuffle=True,\n",
    "    seed=None,\n",
    "    validation_split=None,\n",
    "    subset=None,\n",
    "    interpolation=\"bilinear\",\n",
    "    follow_links=False,\n",
    "    crop_to_aspect_ratio=False\n",
    ")"
   ]
  },
  {
   "cell_type": "code",
   "execution_count": 4,
   "id": "62ba666f",
   "metadata": {},
   "outputs": [],
   "source": [
    "cnn = tf.keras.models.Sequential()"
   ]
  },
  {
   "cell_type": "code",
   "execution_count": 5,
   "id": "e9c295e5",
   "metadata": {},
   "outputs": [],
   "source": [
    "cnn.add(tf.keras.layers.Conv2D(filters=32,kernel_size=3,padding='same',activation='relu',input_shape=[64,64,3]))\n",
    "cnn.add(tf.keras.layers.Conv2D(filters=32,kernel_size=3,activation='relu'))\n",
    "cnn.add(tf.keras.layers.MaxPool2D(pool_size=2,strides=2))"
   ]
  },
  {
   "cell_type": "code",
   "execution_count": 6,
   "id": "493734a5",
   "metadata": {},
   "outputs": [],
   "source": [
    "cnn.add(tf.keras.layers.Dropout(0.25))"
   ]
  },
  {
   "cell_type": "code",
   "execution_count": 7,
   "id": "aea24079",
   "metadata": {},
   "outputs": [],
   "source": [
    "cnn.add(tf.keras.layers.Conv2D(filters=64,kernel_size=3,padding='same',activation='relu'))\n",
    "cnn.add(tf.keras.layers.Conv2D(filters=64,kernel_size=3,activation='relu'))\n",
    "cnn.add(tf.keras.layers.MaxPool2D(pool_size=2,strides=2))"
   ]
  },
  {
   "cell_type": "code",
   "execution_count": 8,
   "id": "f218e9ba",
   "metadata": {},
   "outputs": [],
   "source": [
    "cnn.add(tf.keras.layers.Dropout(0.25))"
   ]
  },
  {
   "cell_type": "code",
   "execution_count": 9,
   "id": "62baafc6",
   "metadata": {},
   "outputs": [],
   "source": [
    "cnn.add(tf.keras.layers.Flatten())\n",
    "     \n",
    "\n",
    "cnn.add(tf.keras.layers.Dense(units=512,activation='relu'))\n",
    "     \n",
    "\n",
    "cnn.add(tf.keras.layers.Dense(units=256,activation='relu'))\n",
    "     \n",
    "\n",
    "cnn.add(tf.keras.layers.Dropout(0.5)) #To avoid overfitting\n",
    "     \n",
    "\n",
    "#Output Layer\n",
    "cnn.add(tf.keras.layers.Dense(units=36,activation='softmax'))"
   ]
  },
  {
   "cell_type": "code",
   "execution_count": 10,
   "id": "51525861",
   "metadata": {},
   "outputs": [],
   "source": [
    "cnn.compile(optimizer='adam',loss='categorical_crossentropy',metrics=['accuracy'])"
   ]
  },
  {
   "cell_type": "code",
   "execution_count": 11,
   "id": "09197cca",
   "metadata": {},
   "outputs": [
    {
     "name": "stdout",
     "output_type": "stream",
     "text": [
      "Model: \"sequential\"\n",
      "_________________________________________________________________\n",
      " Layer (type)                Output Shape              Param #   \n",
      "=================================================================\n",
      " conv2d (Conv2D)             (None, 64, 64, 32)        896       \n",
      "                                                                 \n",
      " conv2d_1 (Conv2D)           (None, 62, 62, 32)        9248      \n",
      "                                                                 \n",
      " max_pooling2d (MaxPooling2D  (None, 31, 31, 32)       0         \n",
      " )                                                               \n",
      "                                                                 \n",
      " dropout (Dropout)           (None, 31, 31, 32)        0         \n",
      "                                                                 \n",
      " conv2d_2 (Conv2D)           (None, 31, 31, 64)        18496     \n",
      "                                                                 \n",
      " conv2d_3 (Conv2D)           (None, 29, 29, 64)        36928     \n",
      "                                                                 \n",
      " max_pooling2d_1 (MaxPooling  (None, 14, 14, 64)       0         \n",
      " 2D)                                                             \n",
      "                                                                 \n",
      " dropout_1 (Dropout)         (None, 14, 14, 64)        0         \n",
      "                                                                 \n",
      " flatten (Flatten)           (None, 12544)             0         \n",
      "                                                                 \n",
      " dense (Dense)               (None, 512)               6423040   \n",
      "                                                                 \n",
      " dense_1 (Dense)             (None, 256)               131328    \n",
      "                                                                 \n",
      " dropout_2 (Dropout)         (None, 256)               0         \n",
      "                                                                 \n",
      " dense_2 (Dense)             (None, 36)                9252      \n",
      "                                                                 \n",
      "=================================================================\n",
      "Total params: 6,629,188\n",
      "Trainable params: 6,629,188\n",
      "Non-trainable params: 0\n",
      "_________________________________________________________________\n"
     ]
    }
   ],
   "source": [
    "cnn.summary()"
   ]
  },
  {
   "cell_type": "code",
   "execution_count": 15,
   "id": "af1926ea",
   "metadata": {},
   "outputs": [
    {
     "name": "stdout",
     "output_type": "stream",
     "text": [
      "Epoch 1/10\n",
      "98/98 [==============================] - 60s 591ms/step - loss: 0.4752 - accuracy: 0.8549 - val_loss: 0.5636 - val_accuracy: 0.9003\n",
      "Epoch 2/10\n",
      "98/98 [==============================] - 60s 592ms/step - loss: 0.4917 - accuracy: 0.8581 - val_loss: 0.4961 - val_accuracy: 0.9031\n",
      "Epoch 3/10\n",
      "98/98 [==============================] - 60s 590ms/step - loss: 0.4305 - accuracy: 0.8697 - val_loss: 0.4423 - val_accuracy: 0.9060\n",
      "Epoch 4/10\n",
      "98/98 [==============================] - 60s 593ms/step - loss: 0.4566 - accuracy: 0.8639 - val_loss: 0.4782 - val_accuracy: 0.9060\n",
      "Epoch 5/10\n",
      "98/98 [==============================] - 62s 612ms/step - loss: 0.4815 - accuracy: 0.8674 - val_loss: 0.5452 - val_accuracy: 0.9031\n",
      "Epoch 6/10\n",
      "98/98 [==============================] - 60s 594ms/step - loss: 0.4533 - accuracy: 0.8684 - val_loss: 0.5310 - val_accuracy: 0.9031\n",
      "Epoch 7/10\n",
      "98/98 [==============================] - 60s 590ms/step - loss: 0.4520 - accuracy: 0.8671 - val_loss: 0.5081 - val_accuracy: 0.9031\n",
      "Epoch 8/10\n",
      "98/98 [==============================] - 60s 595ms/step - loss: 0.4004 - accuracy: 0.8803 - val_loss: 0.4591 - val_accuracy: 0.9003\n",
      "Epoch 9/10\n",
      "98/98 [==============================] - 60s 593ms/step - loss: 0.4426 - accuracy: 0.8620 - val_loss: 0.5388 - val_accuracy: 0.9031\n",
      "Epoch 10/10\n",
      "98/98 [==============================] - 60s 593ms/step - loss: 0.4375 - accuracy: 0.8787 - val_loss: 0.5721 - val_accuracy: 0.9003\n"
     ]
    }
   ],
   "source": [
    "training_history = cnn.fit(x=training_set,validation_data=validation_set,epochs=10)"
   ]
  },
  {
   "cell_type": "code",
   "execution_count": 16,
   "id": "2c8c70d7",
   "metadata": {},
   "outputs": [],
   "source": [
    "cnn.save('trained_model.h5')"
   ]
  },
  {
   "cell_type": "code",
   "execution_count": 17,
   "id": "e403d761",
   "metadata": {},
   "outputs": [
    {
     "name": "stdout",
     "output_type": "stream",
     "text": [
      "98/98 [==============================] - 24s 223ms/step - loss: 0.3091 - accuracy: 0.9053\n",
      "Training accuracy: 0.9052969217300415\n"
     ]
    }
   ],
   "source": [
    "#Training set Accuracy\n",
    "train_loss, train_acc = cnn.evaluate(training_set)\n",
    "print('Training accuracy:', train_acc)"
   ]
  },
  {
   "cell_type": "code",
   "execution_count": 18,
   "id": "6b5a5b76",
   "metadata": {},
   "outputs": [
    {
     "name": "stdout",
     "output_type": "stream",
     "text": [
      "11/11 [==============================] - 3s 102ms/step - loss: 0.5721 - accuracy: 0.9003\n",
      "Validation accuracy: 0.9002848863601685\n"
     ]
    }
   ],
   "source": [
    "#Validation set Accuracy\n",
    "val_loss, val_acc = cnn.evaluate(validation_set)\n",
    "print('Validation accuracy:', val_acc)"
   ]
  },
  {
   "cell_type": "code",
   "execution_count": 19,
   "id": "9057ec53",
   "metadata": {},
   "outputs": [
    {
     "data": {
      "text/plain": [
       "{'loss': [0.47521522641181946,\n",
       "  0.4917038083076477,\n",
       "  0.43046078085899353,\n",
       "  0.4565841853618622,\n",
       "  0.48145028948783875,\n",
       "  0.4533238410949707,\n",
       "  0.45199885964393616,\n",
       "  0.40044811367988586,\n",
       "  0.44260576367378235,\n",
       "  0.4374748766422272],\n",
       " 'accuracy': [0.8548956513404846,\n",
       "  0.8581059575080872,\n",
       "  0.8696629405021667,\n",
       "  0.863884449005127,\n",
       "  0.867415726184845,\n",
       "  0.8683788180351257,\n",
       "  0.8670946955680847,\n",
       "  0.8802568316459656,\n",
       "  0.8619582653045654,\n",
       "  0.8786516785621643],\n",
       " 'val_loss': [0.5636429190635681,\n",
       "  0.4961426556110382,\n",
       "  0.4423147439956665,\n",
       "  0.4782426059246063,\n",
       "  0.5452317595481873,\n",
       "  0.5309823751449585,\n",
       "  0.5081035494804382,\n",
       "  0.4590785503387451,\n",
       "  0.5388388633728027,\n",
       "  0.5721299052238464],\n",
       " 'val_accuracy': [0.9002848863601685,\n",
       "  0.9031339287757874,\n",
       "  0.9059829115867615,\n",
       "  0.9059829115867615,\n",
       "  0.9031339287757874,\n",
       "  0.9031339287757874,\n",
       "  0.9031339287757874,\n",
       "  0.9002848863601685,\n",
       "  0.9031339287757874,\n",
       "  0.9002848863601685]}"
      ]
     },
     "execution_count": 19,
     "metadata": {},
     "output_type": "execute_result"
    }
   ],
   "source": [
    "training_history.history #Return Dictionary of history"
   ]
  },
  {
   "cell_type": "code",
   "execution_count": 20,
   "id": "0827b00a",
   "metadata": {},
   "outputs": [
    {
     "name": "stdout",
     "output_type": "stream",
     "text": [
      "dict_keys(['loss', 'accuracy', 'val_loss', 'val_accuracy'])\n"
     ]
    }
   ],
   "source": [
    "import json\n",
    "with open('training_hist.json','w') as f:\n",
    "  json.dump(training_history.history,f)\n",
    "     \n",
    "\n",
    "print(training_history.history.keys())"
   ]
  },
  {
   "cell_type": "code",
   "execution_count": 21,
   "id": "fdac2f26",
   "metadata": {},
   "outputs": [
    {
     "name": "stdout",
     "output_type": "stream",
     "text": [
      "Validation set Accuracy: 90.02848863601685 %\n"
     ]
    }
   ],
   "source": [
    "print(\"Validation set Accuracy: {} %\".format(training_history.history['val_accuracy'][-1]*100))"
   ]
  },
  {
   "cell_type": "code",
   "execution_count": 24,
   "id": "3b35c4b7",
   "metadata": {},
   "outputs": [
    {
     "name": "stdout",
     "output_type": "stream",
     "text": [
      "Found 359 files belonging to 36 classes.\n"
     ]
    }
   ],
   "source": [
    "test_set = tf.keras.utils.image_dataset_from_directory(\n",
    "    'Dataset/test',\n",
    "    labels=\"inferred\",\n",
    "    label_mode=\"categorical\",\n",
    "    class_names=None,\n",
    "    color_mode=\"rgb\",\n",
    "    batch_size=32,\n",
    "    image_size=(64, 64),\n",
    "    shuffle=True,\n",
    "    seed=None,\n",
    "    validation_split=None,\n",
    "    subset=None,\n",
    "    interpolation=\"bilinear\",\n",
    "    follow_links=False,\n",
    "    crop_to_aspect_ratio=False\n",
    ")"
   ]
  },
  {
   "cell_type": "code",
   "execution_count": 25,
   "id": "d9859098",
   "metadata": {},
   "outputs": [
    {
     "name": "stdout",
     "output_type": "stream",
     "text": [
      "12/12 [==============================] - 4s 100ms/step - loss: 0.5651 - accuracy: 0.8997\n",
      "Test accuracy: 0.8997214436531067\n"
     ]
    }
   ],
   "source": [
    "test_loss,test_acc = cnn.evaluate(test_set)\n",
    "print('Test accuracy:', test_acc)"
   ]
  },
  {
   "cell_type": "code",
   "execution_count": null,
   "id": "3a63e7d9",
   "metadata": {},
   "outputs": [],
   "source": []
  }
 ],
 "metadata": {
  "kernelspec": {
   "display_name": "Python 3 (ipykernel)",
   "language": "python",
   "name": "python3"
  },
  "language_info": {
   "codemirror_mode": {
    "name": "ipython",
    "version": 3
   },
   "file_extension": ".py",
   "mimetype": "text/x-python",
   "name": "python",
   "nbconvert_exporter": "python",
   "pygments_lexer": "ipython3",
   "version": "3.10.4"
  }
 },
 "nbformat": 4,
 "nbformat_minor": 5
}
