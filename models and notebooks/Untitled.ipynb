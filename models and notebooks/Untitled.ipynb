{
 "cells": [
  {
   "cell_type": "code",
   "execution_count": 1,
   "id": "8df787ab",
   "metadata": {},
   "outputs": [],
   "source": [
    "import pandas as pd\n",
    "data=pd.read_csv('Products.csv')"
   ]
  },
  {
   "cell_type": "code",
   "execution_count": 2,
   "id": "48ef9825",
   "metadata": {},
   "outputs": [
    {
     "data": {
      "text/plain": [
       "array(['Air Conditioners', 'All Appliances',\n",
       "       'Heating & Cooling Appliances', 'Kitchen & Home Appliances',\n",
       "       'Refrigerators', 'Washing Machines'], dtype=object)"
      ]
     },
     "execution_count": 2,
     "metadata": {},
     "output_type": "execute_result"
    }
   ],
   "source": [
    "filtered_data = data[data['main_category'] == 'appliances']\n",
    "filtered_data['sub_category'].unique()"
   ]
  },
  {
   "cell_type": "code",
   "execution_count": 8,
   "id": "f6adce6e",
   "metadata": {},
   "outputs": [
    {
     "data": {
      "text/plain": [
       "(29954, 10)"
      ]
     },
     "execution_count": 8,
     "metadata": {},
     "output_type": "execute_result"
    }
   ],
   "source": [
    "filtered_data.shape"
   ]
  },
  {
   "cell_type": "code",
   "execution_count": 4,
   "id": "3d247208",
   "metadata": {},
   "outputs": [
    {
     "name": "stderr",
     "output_type": "stream",
     "text": [
      "C:\\Users\\SYED AZIZ AHMED\\AppData\\Local\\Temp\\ipykernel_16628\\3245301995.py:1: SettingWithCopyWarning: \n",
      "A value is trying to be set on a copy of a slice from a DataFrame.\n",
      "Try using .loc[row_indexer,col_indexer] = value instead\n",
      "\n",
      "See the caveats in the documentation: https://pandas.pydata.org/pandas-docs/stable/user_guide/indexing.html#returning-a-view-versus-a-copy\n",
      "  filtered_data['tags'] = filtered_data['main_category'] + ' ' + filtered_data['sub_category'] + ' ' + filtered_data['ratings'].astype(str) + ' ' + filtered_data['discount_price'] + ' ' + filtered_data['actual_price']\n"
     ]
    }
   ],
   "source": [
    "filtered_data['tags'] = filtered_data['main_category'] + ' ' + filtered_data['sub_category'] + ' ' + filtered_data['ratings'].astype(str) + ' ' + filtered_data['discount_price'] + ' ' + filtered_data['actual_price']\n",
    "\n",
    "# Optionally, you can drop the original columns if needed\n",
    "df = filtered_data.drop(columns=['main_category', 'sub_category', 'ratings', 'discount_price', 'actual_price','image','link','no_of_ratings'])\n"
   ]
  },
  {
   "cell_type": "code",
   "execution_count": 5,
   "id": "eaf82018",
   "metadata": {},
   "outputs": [
    {
     "name": "stdout",
     "output_type": "stream",
     "text": [
      "                                                name  \\\n",
      "0  Lloyd 1.5 Ton 3 Star Inverter Split Ac (5 In 1...   \n",
      "1  LG 1.5 Ton 5 Star AI DUAL Inverter Split AC (C...   \n",
      "2  LG 1 Ton 4 Star Ai Dual Inverter Split Ac (Cop...   \n",
      "3  LG 1.5 Ton 3 Star AI DUAL Inverter Split AC (C...   \n",
      "4  Carrier 1.5 Ton 3 Star Inverter Split AC (Copp...   \n",
      "\n",
      "                                              tags  \n",
      "0  appliances Air Conditioners 4.2 ₹32,999 ₹58,990  \n",
      "1  appliances Air Conditioners 4.2 ₹46,490 ₹75,990  \n",
      "2  appliances Air Conditioners 4.2 ₹34,490 ₹61,990  \n",
      "3    appliances Air Conditioners 4 ₹37,990 ₹68,990  \n",
      "4  appliances Air Conditioners 4.1 ₹34,490 ₹67,790  \n",
      "Count of unique items: 19107\n"
     ]
    }
   ],
   "source": [
    "unique_data = df.drop_duplicates(subset='name')\n",
    "\n",
    "# Print the first few rows of the unique data to verify\n",
    "print(unique_data.head())\n",
    "\n",
    "# If you want to reset the index after dropping duplicates\n",
    "unique_data.reset_index(drop=True, inplace=True)\n",
    "\n",
    "# Print the unique data's shape to see the count of unique items\n",
    "print(\"Count of unique items:\", unique_data.shape[0])"
   ]
  },
  {
   "cell_type": "code",
   "execution_count": 6,
   "id": "b05e5f0b",
   "metadata": {},
   "outputs": [],
   "source": [
    "data=unique_data"
   ]
  },
  {
   "cell_type": "code",
   "execution_count": 7,
   "id": "24edbab5",
   "metadata": {},
   "outputs": [
    {
     "name": "stderr",
     "output_type": "stream",
     "text": [
      "C:\\Users\\SYED AZIZ AHMED\\AppData\\Local\\Temp\\ipykernel_16628\\990830790.py:12: SettingWithCopyWarning: \n",
      "A value is trying to be set on a copy of a slice from a DataFrame.\n",
      "Try using .loc[row_indexer,col_indexer] = value instead\n",
      "\n",
      "See the caveats in the documentation: https://pandas.pydata.org/pandas-docs/stable/user_guide/indexing.html#returning-a-view-versus-a-copy\n",
      "  data['tags'] = data['tags'].str.lower()\n",
      "C:\\Users\\SYED AZIZ AHMED\\AppData\\Local\\Temp\\ipykernel_16628\\990830790.py:22: SettingWithCopyWarning: \n",
      "A value is trying to be set on a copy of a slice from a DataFrame.\n",
      "Try using .loc[row_indexer,col_indexer] = value instead\n",
      "\n",
      "See the caveats in the documentation: https://pandas.pydata.org/pandas-docs/stable/user_guide/indexing.html#returning-a-view-versus-a-copy\n",
      "  data['tags'] = data['tags'].apply(preprocess_tags)\n"
     ]
    },
    {
     "ename": "MemoryError",
     "evalue": "Unable to allocate 1.36 GiB for an array with shape (365077449,) and data type int32",
     "output_type": "error",
     "traceback": [
      "\u001b[1;31m---------------------------------------------------------------------------\u001b[0m",
      "\u001b[1;31mMemoryError\u001b[0m                               Traceback (most recent call last)",
      "Cell \u001b[1;32mIn[7], line 40\u001b[0m\n\u001b[0;32m     37\u001b[0m tfidf_matrix \u001b[38;5;241m=\u001b[39m tfidf\u001b[38;5;241m.\u001b[39mfit_transform(chunk[\u001b[38;5;124m'\u001b[39m\u001b[38;5;124mtags\u001b[39m\u001b[38;5;124m'\u001b[39m])\n\u001b[0;32m     39\u001b[0m \u001b[38;5;66;03m# Calculate cosine similarity within this chunk\u001b[39;00m\n\u001b[1;32m---> 40\u001b[0m cosine_sim \u001b[38;5;241m=\u001b[39m \u001b[43mcosine_similarity\u001b[49m\u001b[43m(\u001b[49m\u001b[43mtfidf_matrix\u001b[49m\u001b[43m,\u001b[49m\u001b[43m \u001b[49m\u001b[43mtfidf_matrix\u001b[49m\u001b[43m)\u001b[49m\n\u001b[0;32m     42\u001b[0m \u001b[38;5;66;03m# Get the dimensions of the current similarity matrix\u001b[39;00m\n\u001b[0;32m     43\u001b[0m rows, cols \u001b[38;5;241m=\u001b[39m cosine_sim\u001b[38;5;241m.\u001b[39mshape\n",
      "File \u001b[1;32m~\\anaconda3\\lib\\site-packages\\sklearn\\metrics\\pairwise.py:1401\u001b[0m, in \u001b[0;36mcosine_similarity\u001b[1;34m(X, Y, dense_output)\u001b[0m\n\u001b[0;32m   1398\u001b[0m \u001b[38;5;28;01melse\u001b[39;00m:\n\u001b[0;32m   1399\u001b[0m     Y_normalized \u001b[38;5;241m=\u001b[39m normalize(Y, copy\u001b[38;5;241m=\u001b[39m\u001b[38;5;28;01mTrue\u001b[39;00m)\n\u001b[1;32m-> 1401\u001b[0m K \u001b[38;5;241m=\u001b[39m \u001b[43msafe_sparse_dot\u001b[49m\u001b[43m(\u001b[49m\u001b[43mX_normalized\u001b[49m\u001b[43m,\u001b[49m\u001b[43m \u001b[49m\u001b[43mY_normalized\u001b[49m\u001b[38;5;241;43m.\u001b[39;49m\u001b[43mT\u001b[49m\u001b[43m,\u001b[49m\u001b[43m \u001b[49m\u001b[43mdense_output\u001b[49m\u001b[38;5;241;43m=\u001b[39;49m\u001b[43mdense_output\u001b[49m\u001b[43m)\u001b[49m\n\u001b[0;32m   1403\u001b[0m \u001b[38;5;28;01mreturn\u001b[39;00m K\n",
      "File \u001b[1;32m~\\anaconda3\\lib\\site-packages\\sklearn\\utils\\extmath.py:189\u001b[0m, in \u001b[0;36msafe_sparse_dot\u001b[1;34m(a, b, dense_output)\u001b[0m\n\u001b[0;32m    187\u001b[0m         ret \u001b[38;5;241m=\u001b[39m np\u001b[38;5;241m.\u001b[39mdot(a, b)\n\u001b[0;32m    188\u001b[0m \u001b[38;5;28;01melse\u001b[39;00m:\n\u001b[1;32m--> 189\u001b[0m     ret \u001b[38;5;241m=\u001b[39m \u001b[43ma\u001b[49m\u001b[43m \u001b[49m\u001b[38;5;241;43m@\u001b[39;49m\u001b[43m \u001b[49m\u001b[43mb\u001b[49m\n\u001b[0;32m    191\u001b[0m \u001b[38;5;28;01mif\u001b[39;00m (\n\u001b[0;32m    192\u001b[0m     sparse\u001b[38;5;241m.\u001b[39missparse(a)\n\u001b[0;32m    193\u001b[0m     \u001b[38;5;129;01mand\u001b[39;00m sparse\u001b[38;5;241m.\u001b[39missparse(b)\n\u001b[0;32m    194\u001b[0m     \u001b[38;5;129;01mand\u001b[39;00m dense_output\n\u001b[0;32m    195\u001b[0m     \u001b[38;5;129;01mand\u001b[39;00m \u001b[38;5;28mhasattr\u001b[39m(ret, \u001b[38;5;124m\"\u001b[39m\u001b[38;5;124mtoarray\u001b[39m\u001b[38;5;124m\"\u001b[39m)\n\u001b[0;32m    196\u001b[0m ):\n\u001b[0;32m    197\u001b[0m     \u001b[38;5;28;01mreturn\u001b[39;00m ret\u001b[38;5;241m.\u001b[39mtoarray()\n",
      "File \u001b[1;32m~\\anaconda3\\lib\\site-packages\\scipy\\sparse\\_base.py:630\u001b[0m, in \u001b[0;36mspmatrix.__matmul__\u001b[1;34m(self, other)\u001b[0m\n\u001b[0;32m    627\u001b[0m \u001b[38;5;28;01mif\u001b[39;00m isscalarlike(other):\n\u001b[0;32m    628\u001b[0m     \u001b[38;5;28;01mraise\u001b[39;00m \u001b[38;5;167;01mValueError\u001b[39;00m(\u001b[38;5;124m\"\u001b[39m\u001b[38;5;124mScalar operands are not allowed, \u001b[39m\u001b[38;5;124m\"\u001b[39m\n\u001b[0;32m    629\u001b[0m                      \u001b[38;5;124m\"\u001b[39m\u001b[38;5;124muse \u001b[39m\u001b[38;5;124m'\u001b[39m\u001b[38;5;124m*\u001b[39m\u001b[38;5;124m'\u001b[39m\u001b[38;5;124m instead\u001b[39m\u001b[38;5;124m\"\u001b[39m)\n\u001b[1;32m--> 630\u001b[0m \u001b[38;5;28;01mreturn\u001b[39;00m \u001b[38;5;28;43mself\u001b[39;49m\u001b[38;5;241;43m.\u001b[39;49m\u001b[43m_mul_dispatch\u001b[49m\u001b[43m(\u001b[49m\u001b[43mother\u001b[49m\u001b[43m)\u001b[49m\n",
      "File \u001b[1;32m~\\anaconda3\\lib\\site-packages\\scipy\\sparse\\_base.py:541\u001b[0m, in \u001b[0;36mspmatrix._mul_dispatch\u001b[1;34m(self, other)\u001b[0m\n\u001b[0;32m    539\u001b[0m     \u001b[38;5;28;01mif\u001b[39;00m \u001b[38;5;28mself\u001b[39m\u001b[38;5;241m.\u001b[39mshape[\u001b[38;5;241m1\u001b[39m] \u001b[38;5;241m!=\u001b[39m other\u001b[38;5;241m.\u001b[39mshape[\u001b[38;5;241m0\u001b[39m]:\n\u001b[0;32m    540\u001b[0m         \u001b[38;5;28;01mraise\u001b[39;00m \u001b[38;5;167;01mValueError\u001b[39;00m(\u001b[38;5;124m'\u001b[39m\u001b[38;5;124mdimension mismatch\u001b[39m\u001b[38;5;124m'\u001b[39m)\n\u001b[1;32m--> 541\u001b[0m     \u001b[38;5;28;01mreturn\u001b[39;00m \u001b[38;5;28;43mself\u001b[39;49m\u001b[38;5;241;43m.\u001b[39;49m\u001b[43m_mul_sparse_matrix\u001b[49m\u001b[43m(\u001b[49m\u001b[43mother\u001b[49m\u001b[43m)\u001b[49m\n\u001b[0;32m    543\u001b[0m \u001b[38;5;66;03m# If it's a list or whatever, treat it like a matrix\u001b[39;00m\n\u001b[0;32m    544\u001b[0m other_a \u001b[38;5;241m=\u001b[39m np\u001b[38;5;241m.\u001b[39masanyarray(other)\n",
      "File \u001b[1;32m~\\anaconda3\\lib\\site-packages\\scipy\\sparse\\_compressed.py:529\u001b[0m, in \u001b[0;36m_cs_matrix._mul_sparse_matrix\u001b[1;34m(self, other)\u001b[0m\n\u001b[0;32m    524\u001b[0m idx_dtype \u001b[38;5;241m=\u001b[39m get_index_dtype((\u001b[38;5;28mself\u001b[39m\u001b[38;5;241m.\u001b[39mindptr, \u001b[38;5;28mself\u001b[39m\u001b[38;5;241m.\u001b[39mindices,\n\u001b[0;32m    525\u001b[0m                              other\u001b[38;5;241m.\u001b[39mindptr, other\u001b[38;5;241m.\u001b[39mindices),\n\u001b[0;32m    526\u001b[0m                             maxval\u001b[38;5;241m=\u001b[39mnnz)\n\u001b[0;32m    528\u001b[0m indptr \u001b[38;5;241m=\u001b[39m np\u001b[38;5;241m.\u001b[39mempty(major_axis \u001b[38;5;241m+\u001b[39m \u001b[38;5;241m1\u001b[39m, dtype\u001b[38;5;241m=\u001b[39midx_dtype)\n\u001b[1;32m--> 529\u001b[0m indices \u001b[38;5;241m=\u001b[39m \u001b[43mnp\u001b[49m\u001b[38;5;241;43m.\u001b[39;49m\u001b[43mempty\u001b[49m\u001b[43m(\u001b[49m\u001b[43mnnz\u001b[49m\u001b[43m,\u001b[49m\u001b[43m \u001b[49m\u001b[43mdtype\u001b[49m\u001b[38;5;241;43m=\u001b[39;49m\u001b[43midx_dtype\u001b[49m\u001b[43m)\u001b[49m\n\u001b[0;32m    530\u001b[0m data \u001b[38;5;241m=\u001b[39m np\u001b[38;5;241m.\u001b[39mempty(nnz, dtype\u001b[38;5;241m=\u001b[39mupcast(\u001b[38;5;28mself\u001b[39m\u001b[38;5;241m.\u001b[39mdtype, other\u001b[38;5;241m.\u001b[39mdtype))\n\u001b[0;32m    532\u001b[0m fn \u001b[38;5;241m=\u001b[39m \u001b[38;5;28mgetattr\u001b[39m(_sparsetools, \u001b[38;5;28mself\u001b[39m\u001b[38;5;241m.\u001b[39mformat \u001b[38;5;241m+\u001b[39m \u001b[38;5;124m'\u001b[39m\u001b[38;5;124m_matmat\u001b[39m\u001b[38;5;124m'\u001b[39m)\n",
      "\u001b[1;31mMemoryError\u001b[0m: Unable to allocate 1.36 GiB for an array with shape (365077449,) and data type int32"
     ]
    }
   ],
   "source": [
    "import pandas as pd\n",
    "from sklearn.feature_extraction.text import TfidfVectorizer\n",
    "from sklearn.metrics.pairwise import cosine_similarity\n",
    "from nltk.corpus import stopwords\n",
    "from nltk.tokenize import word_tokenize\n",
    "import numpy as np\n",
    "\n",
    "# Sample dataset (you should replace this with your actual data)\n",
    "\n",
    "\n",
    "# Convert 'tags' to lowercase\n",
    "data['tags'] = data['tags'].str.lower()\n",
    "\n",
    "# Tokenization and stopword removal\n",
    "stop_words = set(stopwords.words('english'))\n",
    "\n",
    "def preprocess_tags(tags):\n",
    "    words = word_tokenize(tags)\n",
    "    filtered_words = [word for word in words if word not in stop_words]\n",
    "    return ' '.join(filtered_words)\n",
    "\n",
    "data['tags'] = data['tags'].apply(preprocess_tags)\n",
    "\n",
    "# Split your data into subsets (chunks)\n",
    "chunk_size = 19107  # Define the size of each subset\n",
    "chunks = [data[i:i + chunk_size] for i in range(0, len(data), chunk_size)]\n",
    "\n",
    "# Initialize a TfidfVectorizer\n",
    "tfidf = TfidfVectorizer(max_features=10000)\n",
    "\n",
    "# Create an empty matrix to store combined cosine similarities\n",
    "combined_similarity_matrix = None\n",
    "\n",
    "# Loop through the subsets and calculate vectorization and cosine similarities\n",
    "for chunk in chunks:\n",
    "    # Vectorization\n",
    "    tfidf_matrix = tfidf.fit_transform(chunk['tags'])\n",
    "\n",
    "    # Calculate cosine similarity within this chunk\n",
    "    cosine_sim = cosine_similarity(tfidf_matrix, tfidf_matrix)\n",
    "    \n",
    "    # Get the dimensions of the current similarity matrix\n",
    "    rows, cols = cosine_sim.shape\n",
    "\n",
    "    # Combine the similarity matrices\n",
    "    if combined_similarity_matrix is None:\n",
    "        combined_similarity_matrix = cosine_sim\n",
    "    else:\n",
    "        # If the dimensions don't match, pad the smaller matrix with zeros\n",
    "        max_rows = max(combined_similarity_matrix.shape[0], rows)\n",
    "        max_cols = max(combined_similarity_matrix.shape[1], cols)\n",
    "        \n",
    "        combined_similarity_matrix = np.pad(\n",
    "            combined_similarity_matrix, ((0, max_rows - combined_similarity_matrix.shape[0]), \n",
    "                                        (0, max_cols - combined_similarity_matrix.shape[1])), 'constant')\n",
    "        cosine_sim = np.pad(cosine_sim, ((0, max_rows - rows), (0, max_cols - cols)), 'constant')\n",
    "        \n",
    "        combined_similarity_matrix += cosine_sim\n",
    "\n",
    "# If you want to average the similarities, divide by the number of subsets\n",
    "combined_similarity_matrix /= len(chunks)\n",
    "print(\"Cosine Similarity Matrix Shape:\", combined_similarity_matrix.shape)\n",
    "# Now, combined_similarity_matrix contains the combined cosine similarities\n",
    "print(combined_similarity_matrix)\n"
   ]
  },
  {
   "cell_type": "code",
   "execution_count": null,
   "id": "966aa04a",
   "metadata": {},
   "outputs": [],
   "source": []
  }
 ],
 "metadata": {
  "kernelspec": {
   "display_name": "Python 3 (ipykernel)",
   "language": "python",
   "name": "python3"
  },
  "language_info": {
   "codemirror_mode": {
    "name": "ipython",
    "version": 3
   },
   "file_extension": ".py",
   "mimetype": "text/x-python",
   "name": "python",
   "nbconvert_exporter": "python",
   "pygments_lexer": "ipython3",
   "version": "3.10.9"
  }
 },
 "nbformat": 4,
 "nbformat_minor": 5
}
