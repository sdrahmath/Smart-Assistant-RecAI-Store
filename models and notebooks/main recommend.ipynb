{
 "cells": [
  {
   "cell_type": "code",
   "execution_count": 1,
   "id": "c4167460",
   "metadata": {},
   "outputs": [],
   "source": [
    "import pandas as pd\n",
    "data=pd.read_csv('Products.csv')"
   ]
  },
  {
   "cell_type": "code",
   "execution_count": 2,
   "id": "8ec18def",
   "metadata": {},
   "outputs": [
    {
     "data": {
      "text/plain": [
       "array(['All Grocery & Gourmet Foods', 'Coffee, Tea & Beverages',\n",
       "       'Snack Foods'], dtype=object)"
      ]
     },
     "execution_count": 2,
     "metadata": {},
     "output_type": "execute_result"
    }
   ],
   "source": [
    "filtered_data = data[data['main_category'] == 'grocery & gourmet foods']\n",
    "filtered_data['sub_category'].unique()"
   ]
  },
  {
   "cell_type": "code",
   "execution_count": 3,
   "id": "b5d2b7aa",
   "metadata": {},
   "outputs": [],
   "source": [
    "df=filtered_data"
   ]
  },
  {
   "cell_type": "code",
   "execution_count": 10,
   "id": "f8fb9799",
   "metadata": {},
   "outputs": [
    {
     "name": "stderr",
     "output_type": "stream",
     "text": [
      "C:\\Users\\SYED AZIZ AHMED\\AppData\\Local\\Temp\\ipykernel_19016\\2603335107.py:1: SettingWithCopyWarning: \n",
      "A value is trying to be set on a copy of a slice from a DataFrame.\n",
      "Try using .loc[row_indexer,col_indexer] = value instead\n",
      "\n",
      "See the caveats in the documentation: https://pandas.pydata.org/pandas-docs/stable/user_guide/indexing.html#returning-a-view-versus-a-copy\n",
      "  df['tags'] = df['main_category'] + ' ' + df['sub_category'] + ' ' + df['ratings'].astype(str) + ' ' + df['discount_price'] + ' ' + df['actual_price']\n"
     ]
    }
   ],
   "source": [
    "df['tags'] = df['main_category'] + ' ' + df['sub_category'] + ' ' + df['ratings'].astype(str) + ' ' + df['discount_price'] + ' ' + df['actual_price']\n",
    "\n",
    "# Optionally, you can drop the original columns if needed\n",
    "df = df.drop(columns=['main_category', 'sub_category', 'ratings', 'discount_price', 'actual_price','image','link','no_of_ratings'])\n"
   ]
  },
  {
   "cell_type": "code",
   "execution_count": 11,
   "id": "32d50bb7",
   "metadata": {},
   "outputs": [
    {
     "data": {
      "text/html": [
       "<div>\n",
       "<style scoped>\n",
       "    .dataframe tbody tr th:only-of-type {\n",
       "        vertical-align: middle;\n",
       "    }\n",
       "\n",
       "    .dataframe tbody tr th {\n",
       "        vertical-align: top;\n",
       "    }\n",
       "\n",
       "    .dataframe thead th {\n",
       "        text-align: right;\n",
       "    }\n",
       "</style>\n",
       "<table border=\"1\" class=\"dataframe\">\n",
       "  <thead>\n",
       "    <tr style=\"text-align: right;\">\n",
       "      <th></th>\n",
       "      <th>name</th>\n",
       "      <th>tags</th>\n",
       "    </tr>\n",
       "  </thead>\n",
       "  <tbody>\n",
       "    <tr>\n",
       "      <th>21043</th>\n",
       "      <td>Nutraj 100% Natural Dried Premium California W...</td>\n",
       "      <td>grocery &amp; gourmet foods All Grocery &amp; Gourmet ...</td>\n",
       "    </tr>\n",
       "    <tr>\n",
       "      <th>21044</th>\n",
       "      <td>Sugar Free Green Natural Stevia Jar(200 g)</td>\n",
       "      <td>grocery &amp; gourmet foods All Grocery &amp; Gourmet ...</td>\n",
       "    </tr>\n",
       "    <tr>\n",
       "      <th>21045</th>\n",
       "      <td>Daawat Pulav, Long Grains, Fluffy Basmati for ...</td>\n",
       "      <td>grocery &amp; gourmet foods All Grocery &amp; Gourmet ...</td>\n",
       "    </tr>\n",
       "    <tr>\n",
       "      <th>21046</th>\n",
       "      <td>Tata Tea Gold | Assam teas with Gently Rolled ...</td>\n",
       "      <td>grocery &amp; gourmet foods All Grocery &amp; Gourmet ...</td>\n",
       "    </tr>\n",
       "    <tr>\n",
       "      <th>21047</th>\n",
       "      <td>Wagh Bakri Premium Leaf Tea, Poly Pack, 500g</td>\n",
       "      <td>grocery &amp; gourmet foods All Grocery &amp; Gourmet ...</td>\n",
       "    </tr>\n",
       "    <tr>\n",
       "      <th>...</th>\n",
       "      <td>...</td>\n",
       "      <td>...</td>\n",
       "    </tr>\n",
       "    <tr>\n",
       "      <th>394846</th>\n",
       "      <td>SHAHI MUKHWAS</td>\n",
       "      <td>grocery &amp; gourmet foods Snack Foods 5 ₹249 ₹279</td>\n",
       "    </tr>\n",
       "    <tr>\n",
       "      <th>394847</th>\n",
       "      <td>Nutriorg Oats Cookies Black Currant &amp; Choco Ch...</td>\n",
       "      <td>grocery &amp; gourmet foods Snack Foods 5 ₹289 ₹360</td>\n",
       "    </tr>\n",
       "    <tr>\n",
       "      <th>394848</th>\n",
       "      <td>Anand Atta Cookies (500 gm)</td>\n",
       "      <td>grocery &amp; gourmet foods Snack Foods 3.6 ₹420 ₹530</td>\n",
       "    </tr>\n",
       "    <tr>\n",
       "      <th>394849</th>\n",
       "      <td>YUM YUM Premium Dry Fruits Combo Pack of 3 | C...</td>\n",
       "      <td>grocery &amp; gourmet foods Snack Foods 4 ₹849 ₹1,725</td>\n",
       "    </tr>\n",
       "    <tr>\n",
       "      <th>394850</th>\n",
       "      <td>Organic 100% Dry Dates- Yellow/Sukha Khajoor ,...</td>\n",
       "      <td>grocery &amp; gourmet foods Snack Foods 3.7 ₹499 ₹699</td>\n",
       "    </tr>\n",
       "  </tbody>\n",
       "</table>\n",
       "<p>2571 rows × 2 columns</p>\n",
       "</div>"
      ],
      "text/plain": [
       "                                                     name  \\\n",
       "21043   Nutraj 100% Natural Dried Premium California W...   \n",
       "21044          Sugar Free Green Natural Stevia Jar(200 g)   \n",
       "21045   Daawat Pulav, Long Grains, Fluffy Basmati for ...   \n",
       "21046   Tata Tea Gold | Assam teas with Gently Rolled ...   \n",
       "21047        Wagh Bakri Premium Leaf Tea, Poly Pack, 500g   \n",
       "...                                                   ...   \n",
       "394846                                      SHAHI MUKHWAS   \n",
       "394847  Nutriorg Oats Cookies Black Currant & Choco Ch...   \n",
       "394848                        Anand Atta Cookies (500 gm)   \n",
       "394849  YUM YUM Premium Dry Fruits Combo Pack of 3 | C...   \n",
       "394850  Organic 100% Dry Dates- Yellow/Sukha Khajoor ,...   \n",
       "\n",
       "                                                     tags  \n",
       "21043   grocery & gourmet foods All Grocery & Gourmet ...  \n",
       "21044   grocery & gourmet foods All Grocery & Gourmet ...  \n",
       "21045   grocery & gourmet foods All Grocery & Gourmet ...  \n",
       "21046   grocery & gourmet foods All Grocery & Gourmet ...  \n",
       "21047   grocery & gourmet foods All Grocery & Gourmet ...  \n",
       "...                                                   ...  \n",
       "394846    grocery & gourmet foods Snack Foods 5 ₹249 ₹279  \n",
       "394847    grocery & gourmet foods Snack Foods 5 ₹289 ₹360  \n",
       "394848  grocery & gourmet foods Snack Foods 3.6 ₹420 ₹530  \n",
       "394849  grocery & gourmet foods Snack Foods 4 ₹849 ₹1,725  \n",
       "394850  grocery & gourmet foods Snack Foods 3.7 ₹499 ₹699  \n",
       "\n",
       "[2571 rows x 2 columns]"
      ]
     },
     "execution_count": 11,
     "metadata": {},
     "output_type": "execute_result"
    }
   ],
   "source": [
    "df"
   ]
  },
  {
   "cell_type": "code",
   "execution_count": 4,
   "id": "e80bf762",
   "metadata": {},
   "outputs": [],
   "source": [
    "# Assuming your DataFrame is named 'df'\n",
    "df = df.reset_index(drop=True)\n"
   ]
  },
  {
   "cell_type": "code",
   "execution_count": 5,
   "id": "bbe28230",
   "metadata": {},
   "outputs": [
    {
     "data": {
      "text/html": [
       "<div>\n",
       "<style scoped>\n",
       "    .dataframe tbody tr th:only-of-type {\n",
       "        vertical-align: middle;\n",
       "    }\n",
       "\n",
       "    .dataframe tbody tr th {\n",
       "        vertical-align: top;\n",
       "    }\n",
       "\n",
       "    .dataframe thead th {\n",
       "        text-align: right;\n",
       "    }\n",
       "</style>\n",
       "<table border=\"1\" class=\"dataframe\">\n",
       "  <thead>\n",
       "    <tr style=\"text-align: right;\">\n",
       "      <th></th>\n",
       "      <th>name</th>\n",
       "      <th>main_category</th>\n",
       "      <th>sub_category</th>\n",
       "      <th>image</th>\n",
       "      <th>link</th>\n",
       "      <th>ratings</th>\n",
       "      <th>no_of_ratings</th>\n",
       "      <th>discount_price</th>\n",
       "      <th>actual_price</th>\n",
       "    </tr>\n",
       "  </thead>\n",
       "  <tbody>\n",
       "    <tr>\n",
       "      <th>0</th>\n",
       "      <td>Nutraj 100% Natural Dried Premium California W...</td>\n",
       "      <td>grocery &amp; gourmet foods</td>\n",
       "      <td>All Grocery &amp; Gourmet Foods</td>\n",
       "      <td>https://m.media-amazon.com/images/I/71f5UPOWDq...</td>\n",
       "      <td>https://www.amazon.in/Nutraj-California-Walnut...</td>\n",
       "      <td>3.9</td>\n",
       "      <td>6,081</td>\n",
       "      <td>₹686</td>\n",
       "      <td>₹998</td>\n",
       "    </tr>\n",
       "    <tr>\n",
       "      <th>1</th>\n",
       "      <td>Sugar Free Green Natural Stevia Jar(200 g)</td>\n",
       "      <td>grocery &amp; gourmet foods</td>\n",
       "      <td>All Grocery &amp; Gourmet Foods</td>\n",
       "      <td>https://m.media-amazon.com/images/I/61rBhkTJ6E...</td>\n",
       "      <td>https://www.amazon.in/Sugarfree-Green-100-Natu...</td>\n",
       "      <td>4.3</td>\n",
       "      <td>1,585</td>\n",
       "      <td>₹162</td>\n",
       "      <td>₹170</td>\n",
       "    </tr>\n",
       "    <tr>\n",
       "      <th>2</th>\n",
       "      <td>Daawat Pulav, Long Grains, Fluffy Basmati for ...</td>\n",
       "      <td>grocery &amp; gourmet foods</td>\n",
       "      <td>All Grocery &amp; Gourmet Foods</td>\n",
       "      <td>https://m.media-amazon.com/images/I/71UO6eXC1Q...</td>\n",
       "      <td>https://www.amazon.in/Daawat-Pulav-Basmati-Ric...</td>\n",
       "      <td>4.3</td>\n",
       "      <td>3,907</td>\n",
       "      <td>₹138</td>\n",
       "      <td>₹139</td>\n",
       "    </tr>\n",
       "    <tr>\n",
       "      <th>3</th>\n",
       "      <td>Tata Tea Gold | Assam teas with Gently Rolled ...</td>\n",
       "      <td>grocery &amp; gourmet foods</td>\n",
       "      <td>All Grocery &amp; Gourmet Foods</td>\n",
       "      <td>https://m.media-amazon.com/images/I/51kEujuYlp...</td>\n",
       "      <td>https://www.amazon.in/Tata-Tea-Gold-500g/dp/B0...</td>\n",
       "      <td>4.4</td>\n",
       "      <td>15,528</td>\n",
       "      <td>₹283</td>\n",
       "      <td>₹295</td>\n",
       "    </tr>\n",
       "    <tr>\n",
       "      <th>4</th>\n",
       "      <td>Wagh Bakri Premium Leaf Tea, Poly Pack, 500g</td>\n",
       "      <td>grocery &amp; gourmet foods</td>\n",
       "      <td>All Grocery &amp; Gourmet Foods</td>\n",
       "      <td>https://m.media-amazon.com/images/I/61kTHO+UX9...</td>\n",
       "      <td>https://www.amazon.in/Wagh-Bakri-Leaf-Poly-Pac...</td>\n",
       "      <td>4.4</td>\n",
       "      <td>4,463</td>\n",
       "      <td>₹281</td>\n",
       "      <td>₹290</td>\n",
       "    </tr>\n",
       "    <tr>\n",
       "      <th>...</th>\n",
       "      <td>...</td>\n",
       "      <td>...</td>\n",
       "      <td>...</td>\n",
       "      <td>...</td>\n",
       "      <td>...</td>\n",
       "      <td>...</td>\n",
       "      <td>...</td>\n",
       "      <td>...</td>\n",
       "      <td>...</td>\n",
       "    </tr>\n",
       "    <tr>\n",
       "      <th>2566</th>\n",
       "      <td>SHAHI MUKHWAS</td>\n",
       "      <td>grocery &amp; gourmet foods</td>\n",
       "      <td>Snack Foods</td>\n",
       "      <td>https://m.media-amazon.com/images/I/71r5skfIRk...</td>\n",
       "      <td>https://www.amazon.in/SHAHI-MUKHWAS/dp/B08QVTN...</td>\n",
       "      <td>5</td>\n",
       "      <td>2</td>\n",
       "      <td>₹249</td>\n",
       "      <td>₹279</td>\n",
       "    </tr>\n",
       "    <tr>\n",
       "      <th>2567</th>\n",
       "      <td>Nutriorg Oats Cookies Black Currant &amp; Choco Ch...</td>\n",
       "      <td>grocery &amp; gourmet foods</td>\n",
       "      <td>Snack Foods</td>\n",
       "      <td>https://m.media-amazon.com/images/I/612AnfQYFh...</td>\n",
       "      <td>https://www.amazon.in/Nutriorg-Cookies-Black-C...</td>\n",
       "      <td>5</td>\n",
       "      <td>1</td>\n",
       "      <td>₹289</td>\n",
       "      <td>₹360</td>\n",
       "    </tr>\n",
       "    <tr>\n",
       "      <th>2568</th>\n",
       "      <td>Anand Atta Cookies (500 gm)</td>\n",
       "      <td>grocery &amp; gourmet foods</td>\n",
       "      <td>Snack Foods</td>\n",
       "      <td>https://m.media-amazon.com/images/I/71Fw6V+S33...</td>\n",
       "      <td>https://www.amazon.in/Anand-Atta-Cookies-Pack-...</td>\n",
       "      <td>3.6</td>\n",
       "      <td>18</td>\n",
       "      <td>₹420</td>\n",
       "      <td>₹530</td>\n",
       "    </tr>\n",
       "    <tr>\n",
       "      <th>2569</th>\n",
       "      <td>YUM YUM Premium Dry Fruits Combo Pack of 3 | C...</td>\n",
       "      <td>grocery &amp; gourmet foods</td>\n",
       "      <td>Snack Foods</td>\n",
       "      <td>https://m.media-amazon.com/images/I/61RLLkOLVj...</td>\n",
       "      <td>https://www.amazon.in/Premium-Fruits-Almonds-R...</td>\n",
       "      <td>4</td>\n",
       "      <td>34</td>\n",
       "      <td>₹849</td>\n",
       "      <td>₹1,725</td>\n",
       "    </tr>\n",
       "    <tr>\n",
       "      <th>2570</th>\n",
       "      <td>Organic 100% Dry Dates- Yellow/Sukha Khajoor ,...</td>\n",
       "      <td>grocery &amp; gourmet foods</td>\n",
       "      <td>Snack Foods</td>\n",
       "      <td>https://m.media-amazon.com/images/I/61nD4fqxDc...</td>\n",
       "      <td>https://www.amazon.in/Organic-100-Dates-Yellow...</td>\n",
       "      <td>3.7</td>\n",
       "      <td>70</td>\n",
       "      <td>₹499</td>\n",
       "      <td>₹699</td>\n",
       "    </tr>\n",
       "  </tbody>\n",
       "</table>\n",
       "<p>2571 rows × 9 columns</p>\n",
       "</div>"
      ],
      "text/plain": [
       "                                                   name  \\\n",
       "0     Nutraj 100% Natural Dried Premium California W...   \n",
       "1            Sugar Free Green Natural Stevia Jar(200 g)   \n",
       "2     Daawat Pulav, Long Grains, Fluffy Basmati for ...   \n",
       "3     Tata Tea Gold | Assam teas with Gently Rolled ...   \n",
       "4          Wagh Bakri Premium Leaf Tea, Poly Pack, 500g   \n",
       "...                                                 ...   \n",
       "2566                                      SHAHI MUKHWAS   \n",
       "2567  Nutriorg Oats Cookies Black Currant & Choco Ch...   \n",
       "2568                        Anand Atta Cookies (500 gm)   \n",
       "2569  YUM YUM Premium Dry Fruits Combo Pack of 3 | C...   \n",
       "2570  Organic 100% Dry Dates- Yellow/Sukha Khajoor ,...   \n",
       "\n",
       "                main_category                 sub_category  \\\n",
       "0     grocery & gourmet foods  All Grocery & Gourmet Foods   \n",
       "1     grocery & gourmet foods  All Grocery & Gourmet Foods   \n",
       "2     grocery & gourmet foods  All Grocery & Gourmet Foods   \n",
       "3     grocery & gourmet foods  All Grocery & Gourmet Foods   \n",
       "4     grocery & gourmet foods  All Grocery & Gourmet Foods   \n",
       "...                       ...                          ...   \n",
       "2566  grocery & gourmet foods                  Snack Foods   \n",
       "2567  grocery & gourmet foods                  Snack Foods   \n",
       "2568  grocery & gourmet foods                  Snack Foods   \n",
       "2569  grocery & gourmet foods                  Snack Foods   \n",
       "2570  grocery & gourmet foods                  Snack Foods   \n",
       "\n",
       "                                                  image  \\\n",
       "0     https://m.media-amazon.com/images/I/71f5UPOWDq...   \n",
       "1     https://m.media-amazon.com/images/I/61rBhkTJ6E...   \n",
       "2     https://m.media-amazon.com/images/I/71UO6eXC1Q...   \n",
       "3     https://m.media-amazon.com/images/I/51kEujuYlp...   \n",
       "4     https://m.media-amazon.com/images/I/61kTHO+UX9...   \n",
       "...                                                 ...   \n",
       "2566  https://m.media-amazon.com/images/I/71r5skfIRk...   \n",
       "2567  https://m.media-amazon.com/images/I/612AnfQYFh...   \n",
       "2568  https://m.media-amazon.com/images/I/71Fw6V+S33...   \n",
       "2569  https://m.media-amazon.com/images/I/61RLLkOLVj...   \n",
       "2570  https://m.media-amazon.com/images/I/61nD4fqxDc...   \n",
       "\n",
       "                                                   link ratings no_of_ratings  \\\n",
       "0     https://www.amazon.in/Nutraj-California-Walnut...     3.9         6,081   \n",
       "1     https://www.amazon.in/Sugarfree-Green-100-Natu...     4.3         1,585   \n",
       "2     https://www.amazon.in/Daawat-Pulav-Basmati-Ric...     4.3         3,907   \n",
       "3     https://www.amazon.in/Tata-Tea-Gold-500g/dp/B0...     4.4        15,528   \n",
       "4     https://www.amazon.in/Wagh-Bakri-Leaf-Poly-Pac...     4.4         4,463   \n",
       "...                                                 ...     ...           ...   \n",
       "2566  https://www.amazon.in/SHAHI-MUKHWAS/dp/B08QVTN...       5             2   \n",
       "2567  https://www.amazon.in/Nutriorg-Cookies-Black-C...       5             1   \n",
       "2568  https://www.amazon.in/Anand-Atta-Cookies-Pack-...     3.6            18   \n",
       "2569  https://www.amazon.in/Premium-Fruits-Almonds-R...       4            34   \n",
       "2570  https://www.amazon.in/Organic-100-Dates-Yellow...     3.7            70   \n",
       "\n",
       "     discount_price actual_price  \n",
       "0              ₹686         ₹998  \n",
       "1              ₹162         ₹170  \n",
       "2              ₹138         ₹139  \n",
       "3              ₹283         ₹295  \n",
       "4              ₹281         ₹290  \n",
       "...             ...          ...  \n",
       "2566           ₹249         ₹279  \n",
       "2567           ₹289         ₹360  \n",
       "2568           ₹420         ₹530  \n",
       "2569           ₹849       ₹1,725  \n",
       "2570           ₹499         ₹699  \n",
       "\n",
       "[2571 rows x 9 columns]"
      ]
     },
     "execution_count": 5,
     "metadata": {},
     "output_type": "execute_result"
    }
   ],
   "source": [
    "df"
   ]
  },
  {
   "cell_type": "code",
   "execution_count": 6,
   "id": "9069a789",
   "metadata": {},
   "outputs": [],
   "source": [
    "data=df"
   ]
  },
  {
   "cell_type": "code",
   "execution_count": 10,
   "id": "c55648a3",
   "metadata": {},
   "outputs": [
    {
     "name": "stdout",
     "output_type": "stream",
     "text": [
      "Cosine Similarity Matrix Shape: (2571, 2571)\n"
     ]
    }
   ],
   "source": [
    "import pandas as pd\n",
    "from sklearn.metrics.pairwise import cosine_similarity\n",
    "from nltk.corpus import stopwords\n",
    "from nltk.tokenize import word_tokenize\n",
    "from scipy.sparse import csr_matrix\n",
    "from sklearn.feature_extraction.text import CountVectorizer\n",
    "import numpy as np\n",
    "\n",
    "\n",
    "# Convert 'tags' to lowercase\n",
    "data['tags'] = data['tags'].str.lower()\n",
    "\n",
    "# Tokenization and stopword removal\n",
    "stop_words = set(stopwords.words('english'))\n",
    "\n",
    "def preprocess_tags(tags):\n",
    "    words = word_tokenize(tags)\n",
    "    filtered_words = [word for word in words if word not in stop_words]\n",
    "    return ' '.join(filtered_words)\n",
    "\n",
    "data['tags'] = data['tags'].apply(preprocess_tags)\n",
    "\n",
    "# Initialize a CountVectorizer with a limited number of features\n",
    "count_vectorizer = CountVectorizer(max_features=1000)\n",
    "\n",
    "# Vectorization (sparse matrix)\n",
    "count_matrix = count_vectorizer.fit_transform(data['tags'])\n",
    "\n",
    "# Calculate cosine similarity\n",
    "cosine_sim = cosine_similarity(count_matrix, count_matrix)\n",
    "\n",
    "# Convert the similarity matrix to a sparse matrix\n",
    "sparse_cosine_sim = csr_matrix(cosine_sim)\n",
    "\n",
    "print(\"Cosine Similarity Matrix Shape:\", sparse_cosine_sim.shape)\n"
   ]
  },
  {
   "cell_type": "code",
   "execution_count": 7,
   "id": "ab46cc92",
   "metadata": {},
   "outputs": [],
   "source": [
    "data.to_csv('groceries1.csv')"
   ]
  },
  {
   "cell_type": "code",
   "execution_count": 15,
   "id": "55645ea8",
   "metadata": {},
   "outputs": [],
   "source": [
    "def recommend(movie):\n",
    "    index = data[data['name'] == movie].index[0]\n",
    "    distances = sorted(list(enumerate(cosine_sim[index])),reverse=True,key = lambda x: x[1])\n",
    "    for i in distances[1:6]:\n",
    "        print(data.iloc[i[0]].name)"
   ]
  },
  {
   "cell_type": "code",
   "execution_count": 16,
   "id": "b8ad6c7c",
   "metadata": {},
   "outputs": [
    {
     "name": "stdout",
     "output_type": "stream",
     "text": [
      "57\n",
      "115\n",
      "153\n",
      "385\n",
      "428\n"
     ]
    }
   ],
   "source": [
    "recommend('Sugar Free Green Natural Stevia Jar(200 g)')"
   ]
  },
  {
   "cell_type": "code",
   "execution_count": 22,
   "id": "9669e628",
   "metadata": {},
   "outputs": [
    {
     "name": "stdout",
     "output_type": "stream",
     "text": [
      "Royal Foodery Amber dates imported from madina Ajwa Al-Saudi - Finest Ajwa Dates (Khajoor/Khajur) of Madina, 1Kg\n",
      "HeyNutri Mixed Dry Fruit (21+ Nuts, Fruits, Seeds & Berries/ 1 Kg) Healthy Daily Bites Trail Mix with Almonds, Cashew Nut...\n",
      "Healthbrigt Kimia Dates 1kg++, Pack of 2, Pramix Fresh Instant Energy & Immunity Booster Packs, Hand Picked selection, Reg...\n",
      "Go Vegan Pistachios Without Shell - 500gm | Pista\n",
      "Maseto Kashmiri Brown Halves Walnut Without Shell, Akhrot Giri (1kg / 35.2 oz)\n"
     ]
    }
   ],
   "source": [
    "def recommend(movie):\n",
    "    index = data[data['name'] == movie].index[0]\n",
    "    distances = sorted(list(enumerate(cosine_sim[index])), reverse=True, key=lambda x: x[1])\n",
    "    recommended_items = [data.iloc[i[0]]['name'] for i in distances[1:6]]\n",
    "    return recommended_items\n",
    "\n",
    "recommended_movies = recommend('HILLS ORGANICS Dry Fruits Combo Pack of 4 - Almond + Cashew + Walnuts + Raisins ( 100g x4) 400gm | Healthy Snack Dry Fruit...')\n",
    "for movie in recommended_movies:\n",
    "    print(movie)\n"
   ]
  },
  {
   "cell_type": "code",
   "execution_count": 23,
   "id": "13ec670e",
   "metadata": {},
   "outputs": [],
   "source": [
    "import pickle\n",
    "\n",
    "# Save cosine_sim to a .pkl file\n",
    "with open('cosine_similarity_matrix.pkl', 'wb') as file:\n",
    "    pickle.dump(cosine_sim, file)\n"
   ]
  },
  {
   "cell_type": "code",
   "execution_count": 16,
   "id": "79104c82",
   "metadata": {},
   "outputs": [],
   "source": [
    "import pickle\n",
    "\n",
    "with open('cosine_similarity_matrix.pkl', 'rb') as file:\n",
    "    cosine_si = pickle.load(file)"
   ]
  },
  {
   "cell_type": "code",
   "execution_count": 21,
   "id": "08e3c04e",
   "metadata": {},
   "outputs": [
    {
     "name": "stdout",
     "output_type": "stream",
     "text": [
      "Soyfit SOYA Paneer Garlic/Pepper, 200 g\n",
      "Bingo! Tedhe Medhe Masala Tadka, 50g, Spindle Shaped Crunchy Snack with Indian Masala Flavour Perfect for Snacking\n",
      "Nutraj 100% Natural Dried Premium California Walnut Kernels, 500g (2 X 250g) | Pure Without Shell Walnut Kernels | Akhrot ...\n",
      "Sugar Free Green Natural Stevia Jar(200 g)\n",
      "Daawat Pulav, Long Grains, Fluffy Basmati for finest Pulav, 1 Kg\n"
     ]
    }
   ],
   "source": [
    "def recommend(items):\n",
    "    index = data[data['name'] == items].index[0]\n",
    "    distances = sorted(list(enumerate(cosine_si[index])), reverse=True, key=lambda x: x[1])\n",
    "    recommended_items = [data.iloc[i[0]]['name'] for i in distances[1:6]]\n",
    "    return recommended_items\n",
    "\n",
    "recommended_items = recommend('Catch Red Chilli Powder, 100g')\n",
    "for items in recommended_items:\n",
    "    print(items)\n"
   ]
  },
  {
   "cell_type": "code",
   "execution_count": 1,
   "id": "c409ba42",
   "metadata": {},
   "outputs": [
    {
     "name": "stdout",
     "output_type": "stream",
     "text": [
      "3NH® 2Pcs Washing Machine Motor Carbon Brushes For Hoover Candy Indesit Ceset |31252\n",
      "LG 6.5 Kg 5 Star Smart Inverter Fully-Automatic Top Loading Washing Machine (T65SJDR1Z, Red Floral Pattern, Punch+3)\n",
      "Milking Pulsator, Milking Machine Parts, Durable Strong Adjustable Wear‑Resisting for Goats Sheep Cows Cattle\n",
      "Milking Pulsator, Plastic Adjustable Anti‑Aging Milking Machine Parts, 2 Outlets Durable for Goats Sheep Cows Cattle Milki...\n",
      "IFB 6 Kg 5 Star Front Load Washing Machine 2X Power Steam (NEO DIVA SXS 6010, Silver, In-built Heater, 4 years Comprehensi...\n"
     ]
    }
   ],
   "source": [
    "import pickle\n",
    "import pandas as pd\n",
    "data=pd.read_csv('appliances.csv')\n",
    "with open('appliances.pkl', 'rb') as file:\n",
    "    cosine_si = pickle.load(file)\n",
    "def recommend(items):\n",
    "    index = data[data['name'] == items].index[0]\n",
    "    distances = sorted(list(enumerate(cosine_si[index])), reverse=True, key=lambda x: x[1])\n",
    "    recommended_items = [data.iloc[i[0]]['name'] for i in distances[1:6]]\n",
    "    return recommended_items\n",
    "\n",
    "recommended_items = recommend('Folding Washing Machine, 24W Mini Washing Machine Lightweight Green 15 Minutes Fast Cleaning for with Friends or Family fo...')\n",
    "for items in recommended_items:\n",
    "    print(items)\n"
   ]
  },
  {
   "cell_type": "code",
   "execution_count": null,
   "id": "580ee61e",
   "metadata": {},
   "outputs": [],
   "source": []
  }
 ],
 "metadata": {
  "kernelspec": {
   "display_name": "Python 3 (ipykernel)",
   "language": "python",
   "name": "python3"
  },
  "language_info": {
   "codemirror_mode": {
    "name": "ipython",
    "version": 3
   },
   "file_extension": ".py",
   "mimetype": "text/x-python",
   "name": "python",
   "nbconvert_exporter": "python",
   "pygments_lexer": "ipython3",
   "version": "3.10.9"
  }
 },
 "nbformat": 4,
 "nbformat_minor": 5
}
