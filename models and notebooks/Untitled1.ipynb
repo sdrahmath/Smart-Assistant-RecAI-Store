{
 "cells": [
  {
   "cell_type": "code",
   "execution_count": 1,
   "id": "b42b7f16",
   "metadata": {},
   "outputs": [],
   "source": [
    "import pandas as pd\n",
    "data=pd.read_csv('Products.csv')"
   ]
  },
  {
   "cell_type": "code",
   "execution_count": 2,
   "id": "cfc37fd1",
   "metadata": {},
   "outputs": [
    {
     "data": {
      "text/plain": [
       "array(['All Home & Kitchen', 'Bedroom Linen', 'Furniture',\n",
       "       'Garden & Outdoors', 'Home Décor', 'Home Furnishing',\n",
       "       'Home Improvement', 'Home Storage', 'Indoor Lighting',\n",
       "       'Kitchen & Dining', 'Kitchen Storage & Containers',\n",
       "       'Sewing & Craft Supplies'], dtype=object)"
      ]
     },
     "execution_count": 2,
     "metadata": {},
     "output_type": "execute_result"
    }
   ],
   "source": [
    "filtered_data = data[data['main_category'] == 'home & kitchen']\n",
    "filtered_data['sub_category'].unique()"
   ]
  },
  {
   "cell_type": "code",
   "execution_count": 3,
   "id": "33bafd25",
   "metadata": {},
   "outputs": [
    {
     "name": "stderr",
     "output_type": "stream",
     "text": [
      "C:\\Users\\SYED AZIZ AHMED\\AppData\\Local\\Temp\\ipykernel_16352\\3245301995.py:1: SettingWithCopyWarning: \n",
      "A value is trying to be set on a copy of a slice from a DataFrame.\n",
      "Try using .loc[row_indexer,col_indexer] = value instead\n",
      "\n",
      "See the caveats in the documentation: https://pandas.pydata.org/pandas-docs/stable/user_guide/indexing.html#returning-a-view-versus-a-copy\n",
      "  filtered_data['tags'] = filtered_data['main_category'] + ' ' + filtered_data['sub_category'] + ' ' + filtered_data['ratings'].astype(str) + ' ' + filtered_data['discount_price'] + ' ' + filtered_data['actual_price']\n"
     ]
    }
   ],
   "source": [
    "filtered_data['tags'] = filtered_data['main_category'] + ' ' + filtered_data['sub_category'] + ' ' + filtered_data['ratings'].astype(str) + ' ' + filtered_data['discount_price'] + ' ' + filtered_data['actual_price']\n",
    "\n",
    "# Optionally, you can drop the original columns if needed\n",
    "df = filtered_data.drop(columns=['main_category', 'sub_category', 'ratings', 'discount_price', 'actual_price','image','link','no_of_ratings'])\n"
   ]
  },
  {
   "cell_type": "code",
   "execution_count": 4,
   "id": "c7113d9d",
   "metadata": {},
   "outputs": [],
   "source": [
    "df = df.reset_index(drop=True)"
   ]
  },
  {
   "cell_type": "code",
   "execution_count": 5,
   "id": "9cb4d8f7",
   "metadata": {},
   "outputs": [
    {
     "data": {
      "text/html": [
       "<div>\n",
       "<style scoped>\n",
       "    .dataframe tbody tr th:only-of-type {\n",
       "        vertical-align: middle;\n",
       "    }\n",
       "\n",
       "    .dataframe tbody tr th {\n",
       "        vertical-align: top;\n",
       "    }\n",
       "\n",
       "    .dataframe thead th {\n",
       "        text-align: right;\n",
       "    }\n",
       "</style>\n",
       "<table border=\"1\" class=\"dataframe\">\n",
       "  <thead>\n",
       "    <tr style=\"text-align: right;\">\n",
       "      <th></th>\n",
       "      <th>name</th>\n",
       "      <th>tags</th>\n",
       "    </tr>\n",
       "  </thead>\n",
       "  <tbody>\n",
       "    <tr>\n",
       "      <th>0</th>\n",
       "      <td>Godrej aer Matic Kit (Machine + 1 Refill) - Au...</td>\n",
       "      <td>home &amp; kitchen All Home &amp; Kitchen 4.1 ₹466 ₹56...</td>\n",
       "    </tr>\n",
       "    <tr>\n",
       "      <th>1</th>\n",
       "      <td>Presto! Oxo-Biodegradable Garbage Bags, Large ...</td>\n",
       "      <td>home &amp; kitchen All Home &amp; Kitchen 4.3 ₹349 ₹480</td>\n",
       "    </tr>\n",
       "    <tr>\n",
       "      <th>2</th>\n",
       "      <td>Happilo 100% Natural Premium 200g Whole Cashew...</td>\n",
       "      <td>home &amp; kitchen All Home &amp; Kitchen 4.2 ₹199 ₹335</td>\n",
       "    </tr>\n",
       "    <tr>\n",
       "      <th>3</th>\n",
       "      <td>beatXP Kitchen Scale Multipurpose Portable Ele...</td>\n",
       "      <td>home &amp; kitchen All Home &amp; Kitchen 3.7 ₹399 ₹1,999</td>\n",
       "    </tr>\n",
       "    <tr>\n",
       "      <th>4</th>\n",
       "      <td>Dettol Antiseptic Liquid for First Aid , Surfa...</td>\n",
       "      <td>home &amp; kitchen All Home &amp; Kitchen 4.6 ₹342 ₹364</td>\n",
       "    </tr>\n",
       "    <tr>\n",
       "      <th>...</th>\n",
       "      <td>...</td>\n",
       "      <td>...</td>\n",
       "    </tr>\n",
       "    <tr>\n",
       "      <th>13752</th>\n",
       "      <td>Glue Water Dots Set of 50 for Art, DIY, Gift P...</td>\n",
       "      <td>home &amp; kitchen Sewing &amp; Craft Supplies 3.9 ₹19...</td>\n",
       "    </tr>\n",
       "    <tr>\n",
       "      <th>13753</th>\n",
       "      <td>Balar Lace Border Multi Color Mirror Work Embr...</td>\n",
       "      <td>home &amp; kitchen Sewing &amp; Craft Supplies 4.1 ₹30...</td>\n",
       "    </tr>\n",
       "    <tr>\n",
       "      <th>13754</th>\n",
       "      <td>M.G ENTERPRISE 100% Acrylic Wool Multi Royal (...</td>\n",
       "      <td>home &amp; kitchen Sewing &amp; Craft Supplies 5 ₹362 ...</td>\n",
       "    </tr>\n",
       "    <tr>\n",
       "      <th>13755</th>\n",
       "      <td>Goodwill Tech™ Recycled Newspaper Pencils Eco-...</td>\n",
       "      <td>home &amp; kitchen Sewing &amp; Craft Supplies 5 ₹399 ...</td>\n",
       "    </tr>\n",
       "    <tr>\n",
       "      <th>13756</th>\n",
       "      <td>HUNNY-BUNCH® Premium Round Elastic Rope Bands ...</td>\n",
       "      <td>home &amp; kitchen Sewing &amp; Craft Supplies 3.1 ₹11...</td>\n",
       "    </tr>\n",
       "  </tbody>\n",
       "</table>\n",
       "<p>13757 rows × 2 columns</p>\n",
       "</div>"
      ],
      "text/plain": [
       "                                                    name  \\\n",
       "0      Godrej aer Matic Kit (Machine + 1 Refill) - Au...   \n",
       "1      Presto! Oxo-Biodegradable Garbage Bags, Large ...   \n",
       "2      Happilo 100% Natural Premium 200g Whole Cashew...   \n",
       "3      beatXP Kitchen Scale Multipurpose Portable Ele...   \n",
       "4      Dettol Antiseptic Liquid for First Aid , Surfa...   \n",
       "...                                                  ...   \n",
       "13752  Glue Water Dots Set of 50 for Art, DIY, Gift P...   \n",
       "13753  Balar Lace Border Multi Color Mirror Work Embr...   \n",
       "13754  M.G ENTERPRISE 100% Acrylic Wool Multi Royal (...   \n",
       "13755  Goodwill Tech™ Recycled Newspaper Pencils Eco-...   \n",
       "13756  HUNNY-BUNCH® Premium Round Elastic Rope Bands ...   \n",
       "\n",
       "                                                    tags  \n",
       "0      home & kitchen All Home & Kitchen 4.1 ₹466 ₹56...  \n",
       "1        home & kitchen All Home & Kitchen 4.3 ₹349 ₹480  \n",
       "2        home & kitchen All Home & Kitchen 4.2 ₹199 ₹335  \n",
       "3      home & kitchen All Home & Kitchen 3.7 ₹399 ₹1,999  \n",
       "4        home & kitchen All Home & Kitchen 4.6 ₹342 ₹364  \n",
       "...                                                  ...  \n",
       "13752  home & kitchen Sewing & Craft Supplies 3.9 ₹19...  \n",
       "13753  home & kitchen Sewing & Craft Supplies 4.1 ₹30...  \n",
       "13754  home & kitchen Sewing & Craft Supplies 5 ₹362 ...  \n",
       "13755  home & kitchen Sewing & Craft Supplies 5 ₹399 ...  \n",
       "13756  home & kitchen Sewing & Craft Supplies 3.1 ₹11...  \n",
       "\n",
       "[13757 rows x 2 columns]"
      ]
     },
     "execution_count": 5,
     "metadata": {},
     "output_type": "execute_result"
    }
   ],
   "source": [
    "df"
   ]
  },
  {
   "cell_type": "code",
   "execution_count": 6,
   "id": "e0711c61",
   "metadata": {},
   "outputs": [
    {
     "data": {
      "text/html": [
       "<div>\n",
       "<style scoped>\n",
       "    .dataframe tbody tr th:only-of-type {\n",
       "        vertical-align: middle;\n",
       "    }\n",
       "\n",
       "    .dataframe tbody tr th {\n",
       "        vertical-align: top;\n",
       "    }\n",
       "\n",
       "    .dataframe thead th {\n",
       "        text-align: right;\n",
       "    }\n",
       "</style>\n",
       "<table border=\"1\" class=\"dataframe\">\n",
       "  <thead>\n",
       "    <tr style=\"text-align: right;\">\n",
       "      <th></th>\n",
       "      <th>name</th>\n",
       "      <th>tags</th>\n",
       "    </tr>\n",
       "  </thead>\n",
       "  <tbody>\n",
       "    <tr>\n",
       "      <th>count</th>\n",
       "      <td>13757</td>\n",
       "      <td>13757</td>\n",
       "    </tr>\n",
       "    <tr>\n",
       "      <th>unique</th>\n",
       "      <td>13040</td>\n",
       "      <td>12940</td>\n",
       "    </tr>\n",
       "    <tr>\n",
       "      <th>top</th>\n",
       "      <td>BSB HOME Premium Cotton Elastic Fitted Bedshee...</td>\n",
       "      <td>home &amp; kitchen Home Furnishing 4.1 ₹299 ₹999</td>\n",
       "    </tr>\n",
       "    <tr>\n",
       "      <th>freq</th>\n",
       "      <td>12</td>\n",
       "      <td>10</td>\n",
       "    </tr>\n",
       "  </tbody>\n",
       "</table>\n",
       "</div>"
      ],
      "text/plain": [
       "                                                     name  \\\n",
       "count                                               13757   \n",
       "unique                                              13040   \n",
       "top     BSB HOME Premium Cotton Elastic Fitted Bedshee...   \n",
       "freq                                                   12   \n",
       "\n",
       "                                                tags  \n",
       "count                                          13757  \n",
       "unique                                         12940  \n",
       "top     home & kitchen Home Furnishing 4.1 ₹299 ₹999  \n",
       "freq                                              10  "
      ]
     },
     "execution_count": 6,
     "metadata": {},
     "output_type": "execute_result"
    }
   ],
   "source": [
    "df.describe()"
   ]
  },
  {
   "cell_type": "code",
   "execution_count": 7,
   "id": "33307343",
   "metadata": {},
   "outputs": [],
   "source": [
    "data=df"
   ]
  },
  {
   "cell_type": "code",
   "execution_count": 8,
   "id": "796ac053",
   "metadata": {},
   "outputs": [
    {
     "name": "stdout",
     "output_type": "stream",
     "text": [
      "Cosine Similarity Matrix Shape: (13757, 13757)\n"
     ]
    }
   ],
   "source": [
    "import pandas as pd\n",
    "from sklearn.metrics.pairwise import cosine_similarity\n",
    "from nltk.corpus import stopwords\n",
    "from nltk.tokenize import word_tokenize\n",
    "from scipy.sparse import csr_matrix\n",
    "from sklearn.feature_extraction.text import CountVectorizer\n",
    "import numpy as np\n",
    "\n",
    "\n",
    "# Convert 'tags' to lowercase\n",
    "data['tags'] = data['tags'].str.lower()\n",
    "\n",
    "# Tokenization and stopword removal\n",
    "stop_words = set(stopwords.words('english'))\n",
    "\n",
    "def preprocess_tags(tags):\n",
    "    words = word_tokenize(tags)\n",
    "    filtered_words = [word for word in words if word not in stop_words]\n",
    "    return ' '.join(filtered_words)\n",
    "\n",
    "data['tags'] = data['tags'].apply(preprocess_tags)\n",
    "\n",
    "# Initialize a CountVectorizer with a limited number of features\n",
    "count_vectorizer = CountVectorizer(max_features=1000)\n",
    "\n",
    "# Vectorization (sparse matrix)\n",
    "count_matrix = count_vectorizer.fit_transform(data['tags'])\n",
    "\n",
    "# Calculate cosine similarity\n",
    "cosine_sim = cosine_similarity(count_matrix, count_matrix)\n",
    "\n",
    "# Convert the similarity matrix to a sparse matrix\n",
    "sparse_cosine_sim = csr_matrix(cosine_sim)\n",
    "\n",
    "print(\"Cosine Similarity Matrix Shape:\", sparse_cosine_sim.shape)\n"
   ]
  },
  {
   "cell_type": "code",
   "execution_count": 9,
   "id": "c589ecf6",
   "metadata": {},
   "outputs": [],
   "source": [
    "filtered_data.to_csv('HomeandKitchen.csv')"
   ]
  },
  {
   "cell_type": "code",
   "execution_count": 10,
   "id": "f6f0b6cd",
   "metadata": {},
   "outputs": [],
   "source": [
    "import pickle\n",
    "with open('HomeandKitchen.pkl','wb') as file:\n",
    "    pickle.dump(cosine_sim,file)"
   ]
  },
  {
   "cell_type": "code",
   "execution_count": 13,
   "id": "76f7eb90",
   "metadata": {},
   "outputs": [
    {
     "name": "stdout",
     "output_type": "stream",
     "text": [
      "PHILIPS Hue Gen 3 Smart Light E27 Color Ambiance 9W Bulb, Bluetooth & Zigbee Compatible Hue Bridge Optional, Compatible wi...\n",
      "PHILIPS H1 Ultinon Essential G2 LED Lamp 6000K Luxeon (Pure White, 2 Pieces)\n",
      "SYSKA SSK-RDL-R-5W-6K 5-Watt Round LED Slim Recessed Panel Lights (Pack of 6, Cool Day Light)\n",
      "WAVE SHOP Plastic Touch Lamp Night Light, Multicolour, Pack of 2\n",
      "Hopdezyo E27 LED Italian Crafter Home Decor Floor Lamp for Living Room Bedroom Office, Holder & Lamp, Jute Shade Pack of 1\n"
     ]
    }
   ],
   "source": [
    "import pickle\n",
    "import pandas as pd\n",
    "data=pd.read_csv('HomeandKitchen.csv')\n",
    "with open('HomeandKitchen.pkl', 'rb') as file:\n",
    "    cosine_si = pickle.load(file)\n",
    "def recommend(items):\n",
    "    index = data[data['name'] == items].index[0]\n",
    "    distances = sorted(list(enumerate(cosine_si[index])), reverse=True, key=lambda x: x[1])\n",
    "    recommended_items = [data.iloc[i[0]]['name'] for i in distances[1:6]]\n",
    "    return recommended_items\n",
    "\n",
    "recommended_items = recommend('PHILIPS Hue Gen 3 Smart Light E27 Color Ambiance 9W Bulb, Bluetooth & Zigbee Compatible Hue Bridge Optional, Compatible wi...')\n",
    "for items in recommended_items:\n",
    "    print(items)\n"
   ]
  },
  {
   "cell_type": "code",
   "execution_count": null,
   "id": "095607bc",
   "metadata": {},
   "outputs": [],
   "source": []
  }
 ],
 "metadata": {
  "kernelspec": {
   "display_name": "Python 3 (ipykernel)",
   "language": "python",
   "name": "python3"
  },
  "language_info": {
   "codemirror_mode": {
    "name": "ipython",
    "version": 3
   },
   "file_extension": ".py",
   "mimetype": "text/x-python",
   "name": "python",
   "nbconvert_exporter": "python",
   "pygments_lexer": "ipython3",
   "version": "3.10.9"
  }
 },
 "nbformat": 4,
 "nbformat_minor": 5
}
